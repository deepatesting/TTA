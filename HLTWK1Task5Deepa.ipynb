{
 "cells": [
  {
   "cell_type": "code",
   "execution_count": 35,
   "metadata": {},
   "outputs": [
    {
     "name": "stdout",
     "output_type": "stream",
     "text": [
      "Number one:  2\n",
      "Number two:  3\n",
      "\n",
      "Division of 2 and 3 is : 0.6666666666666666\n"
     ]
    }
   ],
   "source": [
    "\"\"\" TASK - 5 \"\"\"\n",
    "\"\"\"Write a program which will ask for two numbers from a user. Then\n",
    "offer a menu to the user giving them a choice of operator:\"\"\"\n",
    "\n",
    "\"\"\"e.g. – Enter “a” if you want to add\n",
    "                “b” if you want to subtract\"\"\"\n",
    "\n",
    "\"\"\"Include +, -, /, *, ** square (to the power of). Once the user has\n",
    "selected which operator they wish to use, perform the calculation.\"\"\"\n",
    "\n",
    "user_input_num1 = int(input(\"Enter number one:\"))\n",
    "user_input_num2 = int(input(\"Enter number two:\"))\n",
    "\n",
    "menu_choice = input(\"Choose one of the following operations from the menu below:\" + \"\\n\"\n",
    "                    + \"***** OPERATIONS MENU ******\" + \"\\n\"\n",
    "                    + \"\\t Enter 'a' if you want to add\" + \"\\n\"\n",
    "                    + \"\\t 'b' if you want to subtract\" + \"\\n\"\n",
    "                    + \"\\t 'c' if you want to multiply\" + \"\\n\"\n",
    "                    + \"\\t 'd' if you want to divide\" + \"\\n\"\n",
    "                    + \"\\t 'e' if you want to square(to the power of)\"\n",
    "                    )\n",
    "\n",
    "print(\"Number one: \", user_input_num1)\n",
    "print(\"Number two: \", user_input_num2)\n",
    "\n",
    "if menu_choice == 'a':\n",
    "    result = user_input_num1 + user_input_num2\n",
    "    print(\"\\nAddition of {} and {} is : {}\".format(user_input_num1,\n",
    "                user_input_num2, result))\n",
    "elif menu_choice == 'b':\n",
    "    result = user_input_num1 - user_input_num2\n",
    "    print(\"\\nSubtraction of {} and {} is : {}\".format(user_input_num1,\n",
    "                user_input_num2, result))\n",
    "elif menu_choice == 'c':\n",
    "    result = user_input_num1 * user_input_num2\n",
    "    print(\"\\nMultiplication of {} and {} is : {}\".format(user_input_num1,\n",
    "                user_input_num2, result))\n",
    "elif menu_choice == 'd':\n",
    "    result = user_input_num1 / user_input_num2\n",
    "    print(\"\\nDivision of {} and {} is : {}\".format(user_input_num1,\n",
    "                user_input_num2, result))\n",
    "elif menu_choice == 'e':\n",
    "    result = user_input_num1 ** user_input_num2\n",
    "    print(\"\\n{} to the power of {} is : {}\".format(user_input_num1,\n",
    "                user_input_num2, result))\n",
    "else:\n",
    "    print(\"\\nOops, No operation for this option!\\n\" +\n",
    "            \"Next time please enter one option from below:\\n\" +\n",
    "            \"'a' or 'b' or 'c' or 'd' or 'e'\\nThank you!!\")"
   ]
  }
 ],
 "metadata": {
  "interpreter": {
   "hash": "aee8b7b246df8f9039afb4144a1f6fd8d2ca17a180786b69acc140d282b71a49"
  },
  "kernelspec": {
   "display_name": "Python 3.8.2 64-bit",
   "name": "python3"
  },
  "language_info": {
   "codemirror_mode": {
    "name": "ipython",
    "version": 3
   },
   "file_extension": ".py",
   "mimetype": "text/x-python",
   "name": "python",
   "nbconvert_exporter": "python",
   "pygments_lexer": "ipython3",
   "version": "3.8.2"
  },
  "orig_nbformat": 4
 },
 "nbformat": 4,
 "nbformat_minor": 2
}
