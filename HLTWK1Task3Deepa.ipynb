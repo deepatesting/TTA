{
 "cells": [
  {
   "cell_type": "code",
   "execution_count": 3,
   "metadata": {},
   "outputs": [
    {
     "name": "stdout",
     "output_type": "stream",
     "text": [
      "Hi, DEEPA!\n",
      "'Your favourite meal is Fries, Pizza, icecream with a glass of coke'.\n"
     ]
    }
   ],
   "source": [
    "\"\"\" TASK - 3 \"\"\"\n",
    "\"\"\"Write a program that allows user to enter their favourite starter, main\n",
    "course, dessert and drink.\"\"\"\n",
    "\n",
    "\"\"\"Concatenate these and output a message which says – 'Your favourite\n",
    "meal is ………with a glass of….'\"\"\"\n",
    "\n",
    "user_name = str(input(\"Can you enter your name?\"))\n",
    "starter = input(\"Can you enter your favourite starter?\")\n",
    "main_course = input(\"Can you enter your favourite main course?\")\n",
    "dessert = input(\"Can you enter your favourite dessert?\")\n",
    "drink = input(\"Can you enter your favourite drink?\")\n",
    "\n",
    "print(\"Hi, \" + user_name + \"!\" + \"\\n'Your favourite meal is \" + starter + \", \" \n",
    "+ main_course + \", \" + dessert + \" with a glass of \" + drink + \".'\")\n",
    "\n",
    "\n"
   ]
  }
 ],
 "metadata": {
  "interpreter": {
   "hash": "aee8b7b246df8f9039afb4144a1f6fd8d2ca17a180786b69acc140d282b71a49"
  },
  "kernelspec": {
   "display_name": "Python 3.8.2 64-bit",
   "name": "python3"
  },
  "language_info": {
   "codemirror_mode": {
    "name": "ipython",
    "version": 3
   },
   "file_extension": ".py",
   "mimetype": "text/x-python",
   "name": "python",
   "nbconvert_exporter": "python",
   "pygments_lexer": "ipython3",
   "version": "3.8.2"
  },
  "orig_nbformat": 4
 },
 "nbformat": 4,
 "nbformat_minor": 2
}
