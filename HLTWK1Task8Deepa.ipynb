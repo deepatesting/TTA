{
 "cells": [
  {
   "cell_type": "code",
   "execution_count": 4,
   "metadata": {},
   "outputs": [
    {
     "name": "stdout",
     "output_type": "stream",
     "text": [
      "Choose Veg Pizza or chicken Pizza?\n",
      "Pizza type:  veg\n",
      "Pizza size:  small\n",
      "Toppings:  corn,jalepino,pineapple\n",
      "Do you want drink say 'yes' or 'no':  yes\n",
      "Your drink is:  coke\n",
      "Please confirm and pay your order\n",
      "Collect your order, Thank you!\n"
     ]
    }
   ],
   "source": [
    "\"\"\" Task - 8 \"\"\"\n",
    "\"\"\" Pizza order - code \"\"\"\n",
    "\n",
    "#Program to order and collect pizza\n",
    "\n",
    "#Ask the user to choose veg pizza? or chicken pizza?\n",
    "print(\"Choose Veg Pizza or chicken Pizza?\")\n",
    "user_input_type = input(\"Enter veg or chicken\")\n",
    "\n",
    "print(\"Pizza type: \", user_input_type)\n",
    "\n",
    "if user_input_type == \"chicken\" or user_input_type == \"veg\":\n",
    "    #Ask the user to choose the size.\n",
    "    user_input_size = input(\"Choose size 1. small 2. medium 3. Large\")\n",
    "    print(\"Pizza size: \", user_input_size)\n",
    "\n",
    "    #Ask the user to choose toppings.\n",
    "    user_input_toppings = input(\"Choose toppings\")\n",
    "    print(\"Toppings: \", user_input_toppings)\n",
    "    \n",
    "    #If 'yes' to drinks, order drinks\n",
    "    \n",
    "    drink_yes_or_no = str(input(\"Do you want drink say 'yes' or 'no'\"))\n",
    "    print(\"Do you want drink say 'yes' or 'no': \", drink_yes_or_no)\n",
    "\n",
    "    if drink_yes_or_no == \"yes\":\n",
    "        user_input_drink = input(\"Choose your drink: \")\n",
    "        print(\"Your drink is: \", user_input_drink)\n",
    "\n",
    "#confirm and pay\n",
    "print(\"Please confirm and pay your order\")\n",
    "#collect order\n",
    "print(\"Collect your order once ready, Thank you!\")\n",
    "#End of program\n",
    "\n",
    "\n",
    "\n",
    "\n",
    "\n"
   ]
  }
 ],
 "metadata": {
  "interpreter": {
   "hash": "aee8b7b246df8f9039afb4144a1f6fd8d2ca17a180786b69acc140d282b71a49"
  },
  "kernelspec": {
   "display_name": "Python 3.8.2 64-bit",
   "name": "python3"
  },
  "language_info": {
   "codemirror_mode": {
    "name": "ipython",
    "version": 3
   },
   "file_extension": ".py",
   "mimetype": "text/x-python",
   "name": "python",
   "nbconvert_exporter": "python",
   "pygments_lexer": "ipython3",
   "version": "3.8.2"
  },
  "orig_nbformat": 4
 },
 "nbformat": 4,
 "nbformat_minor": 2
}
