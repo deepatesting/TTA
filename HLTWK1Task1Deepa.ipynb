{
 "cells": [
  {
   "cell_type": "code",
   "execution_count": 3,
   "metadata": {},
   "outputs": [
    {
     "name": "stdout",
     "output_type": "stream",
     "text": [
      "Random number is :  1\n",
      "Welcome, DEEPA! \n",
      "Yuor guessed number is :  1\n",
      "Your guess is correct, Well done DEEPA!\n"
     ]
    }
   ],
   "source": [
    "\"\"\" TASK - 1 \"\"\"\n",
    "\"\"\"a) Stores a random number (1-10) in a variable – see hint below.\n",
    "b) Asks a user for their name and stores this in a variable.\n",
    "c) Asks a user to guess the number between 1 and 10.\n",
    "d) Tells the user whether they have guessed correctly.\"\"\"\n",
    "\n",
    "import random\n",
    "\n",
    "random_number = random.randint(1,10)\n",
    "print(\"Random number is : \", random_number)\n",
    "\n",
    "user_name = input(\"Enter your name: \")\n",
    "print(\"Welcome, {}! \".format(user_name))\n",
    "\n",
    "user_guess = int(input(\"Can you guess a number between 1 and 10.\"))\n",
    "print(\"Your guessed number is : \", user_guess)\n",
    "\n",
    "if user_guess == random_number:\n",
    "    print(\"Your guess is correct, Well done \" + user_name + \"!\")\n",
    "else:\n",
    "    print(\"Oops, Sorry! Try next time.\")"
   ]
  }
 ],
 "metadata": {
  "interpreter": {
   "hash": "aee8b7b246df8f9039afb4144a1f6fd8d2ca17a180786b69acc140d282b71a49"
  },
  "kernelspec": {
   "display_name": "Python 3.8.2 64-bit",
   "name": "python3"
  },
  "language_info": {
   "codemirror_mode": {
    "name": "ipython",
    "version": 3
   },
   "file_extension": ".py",
   "mimetype": "text/x-python",
   "name": "python",
   "nbconvert_exporter": "python",
   "pygments_lexer": "ipython3",
   "version": "3.8.2"
  },
  "metadata": {
   "interpreter": {
    "hash": "aee8b7b246df8f9039afb4144a1f6fd8d2ca17a180786b69acc140d282b71a49"
   }
  },
  "orig_nbformat": 2
 },
 "nbformat": 4,
 "nbformat_minor": 2
}
