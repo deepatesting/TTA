{
 "cells": [
  {
   "cell_type": "code",
   "execution_count": 28,
   "metadata": {},
   "outputs": [
    {
     "name": "stdout",
     "output_type": "stream",
     "text": [
      "Original value of motorbike in the year 2014 is: 2000\n",
      "Value of motorbike in the year 2015 is: 1800.00\n",
      "Value of motorbike in the year 2016 is: 1620.00\n",
      "Value of motorbike in the year 2017 is: 1458.00\n",
      "Value of motorbike in the year 2018 is: 1312.20\n",
      "Value of motorbike in the year 2019 is: 1180.98\n",
      "Value of motorbike in the year 2020 is: 1062.88\n"
     ]
    }
   ],
   "source": [
    "\"\"\" TASK - 4 \"\"\"\n",
    "\"\"\"A motorbike costs £2000 and loses 10% of its value every year. Using a\n",
    "loop, print the value of the bike every following year until it falls below\n",
    "£1000.\"\"\"\n",
    "\n",
    "bike_cost = 2000\n",
    "year = 2014\n",
    "print(\"Original value of motorbike in the year \" + str(year) + \" is:\", bike_cost)\n",
    "while(bike_cost > 1000):\n",
    "    bike_cost =  bike_cost - (bike_cost * (10/100))\n",
    "    year += 1\n",
    "    if(bike_cost >= 1000):\n",
    "        print(\"Value of motorbike in the year \" + str(year) + \" is: %.2f\" % bike_cost)\n",
    "    \n"
   ]
  }
 ],
 "metadata": {
  "interpreter": {
   "hash": "aee8b7b246df8f9039afb4144a1f6fd8d2ca17a180786b69acc140d282b71a49"
  },
  "kernelspec": {
   "display_name": "Python 3.8.2 64-bit",
   "name": "python3"
  },
  "language_info": {
   "codemirror_mode": {
    "name": "ipython",
    "version": 3
   },
   "file_extension": ".py",
   "mimetype": "text/x-python",
   "name": "python",
   "nbconvert_exporter": "python",
   "pygments_lexer": "ipython3",
   "version": "3.8.2"
  },
  "orig_nbformat": 4
 },
 "nbformat": 4,
 "nbformat_minor": 2
}
