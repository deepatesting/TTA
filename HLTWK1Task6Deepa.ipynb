{
 "cells": [
  {
   "cell_type": "code",
   "execution_count": 11,
   "metadata": {},
   "outputs": [
    {
     "name": "stdout",
     "output_type": "stream",
     "text": [
      "Original value of motorbike in the year 2014 is:2000\n",
      "\n",
      "*** function called ***\n",
      "Value of motorbike in the year 2015 is: 1800.00\n",
      "*** function called ***\n",
      "Value of motorbike in the year 2016 is: 1620.00\n",
      "*** function called ***\n",
      "Value of motorbike in the year 2017 is: 1458.00\n",
      "*** function called ***\n",
      "Value of motorbike in the year 2018 is: 1312.20\n",
      "*** function called ***\n",
      "Value of motorbike in the year 2019 is: 1180.98\n",
      "*** function called ***\n",
      "Value of motorbike in the year 2020 is: 1062.88\n",
      "*** function called ***\n"
     ]
    }
   ],
   "source": [
    "\"\"\" TASK - 6 \"\"\"\n",
    "\"\"\"As an extension to the motorbike task that costs £2000 and \n",
    "loses 10% of its value every year. Set up a function that \n",
    "performs the calculation by passing in parameters. Then using \n",
    "a loop, print the value of the bike every following year until it \n",
    "falls below £1000.\"\"\"\n",
    "\n",
    "def function1(cost):\n",
    "    print(\"*** function called ***\")\n",
    "    output =  cost - (cost * (10/100))\n",
    "    return output\n",
    "\n",
    "\n",
    "bike_cost = 2000\n",
    "year = 2014\n",
    "\n",
    "print(\"Original value of motorbike in the year \" + str(year) \n",
    "    + \" is:\" + str(bike_cost) +\"\\n\")\n",
    "\n",
    "while(bike_cost > 1000):\n",
    "    bike_cost = function1(bike_cost)\n",
    "\n",
    "    year += 1\n",
    "    if(bike_cost >= 1000):\n",
    "        print(\"Value of motorbike in the year \" + str(year) + \" is: %.2f\" % bike_cost)\n",
    "\n",
    "\n",
    "\n"
   ]
  }
 ],
 "metadata": {
  "interpreter": {
   "hash": "aee8b7b246df8f9039afb4144a1f6fd8d2ca17a180786b69acc140d282b71a49"
  },
  "kernelspec": {
   "display_name": "Python 3.8.2 64-bit",
   "name": "python3"
  },
  "language_info": {
   "codemirror_mode": {
    "name": "ipython",
    "version": 3
   },
   "file_extension": ".py",
   "mimetype": "text/x-python",
   "name": "python",
   "nbconvert_exporter": "python",
   "pygments_lexer": "ipython3",
   "version": "3.8.2"
  },
  "orig_nbformat": 4
 },
 "nbformat": 4,
 "nbformat_minor": 2
}
