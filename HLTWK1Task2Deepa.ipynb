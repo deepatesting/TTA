{
 "cells": [
  {
   "cell_type": "code",
   "execution_count": 14,
   "metadata": {},
   "outputs": [
    {
     "name": "stdout",
     "output_type": "stream",
     "text": [
      "Your guessed number is : 101\n",
      "Number entered not in range 1 and 100.\n"
     ]
    }
   ],
   "source": [
    "\"\"\" TASK - 2 \"\"\"\n",
    "\"\"\"Write a program that asks a user for their favourite number between 1\n",
    "and 100 and then tells them a joke based on the number. You should\n",
    "use a minimum of 3 jokes.\"\"\"\n",
    "\n",
    "user_guess = int(input(\"Can you guess a number between 1 and 100.\"))\n",
    "print(\"Your guessed number is :\", user_guess)\n",
    "\n",
    "if user_guess >= 1 and user_guess < 50:\n",
    "    print(\" Q: Why did the math book look so sad? \\n A: Because of all its problems. \")\n",
    "elif user_guess == 50:\n",
    "    print(\" Q: What kind of tree fits in your hand? \\n A: A palm tree! \")\n",
    "elif user_guess > 50 and user_guess <= 100:\n",
    "    print(\" Q: How does the ocean say hello? \\n A: It waves. \")\n",
    "else: \n",
    "    print(\"Number entered not in range 1 and 100.\")\n",
    "\n",
    "\n",
    "\n",
    "\n"
   ]
  }
 ],
 "metadata": {
  "interpreter": {
   "hash": "aee8b7b246df8f9039afb4144a1f6fd8d2ca17a180786b69acc140d282b71a49"
  },
  "kernelspec": {
   "display_name": "Python 3.8.2 64-bit",
   "name": "python3"
  },
  "language_info": {
   "codemirror_mode": {
    "name": "ipython",
    "version": 3
   },
   "file_extension": ".py",
   "mimetype": "text/x-python",
   "name": "python",
   "nbconvert_exporter": "python",
   "pygments_lexer": "ipython3",
   "version": "3.8.2"
  },
  "orig_nbformat": 4
 },
 "nbformat": 4,
 "nbformat_minor": 2
}
