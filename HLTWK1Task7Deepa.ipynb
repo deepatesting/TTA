{
 "cells": [
  {
   "cell_type": "code",
   "execution_count": 6,
   "metadata": {},
   "outputs": [
    {
     "name": "stdout",
     "output_type": "stream",
     "text": [
      "****Calling Procedure****\n",
      "Number one:  2\n",
      "Number two:  3\n",
      "\n",
      "Oops, No operation for this option!\n",
      "Next time please enter one option from below:\n",
      "'a' or 'b' or 'c' or 'd' or 'e'\n",
      "Thank you!!\n"
     ]
    }
   ],
   "source": [
    "\"\"\" TASK - 7 \"\"\"\n",
    "\"\"\" Write a program which will ask for two numbers from a user. \n",
    "    Then offer an option menu to the user giving them a choice of \n",
    "    maths operators. Once the user has selected which operator \n",
    "    they wish to use, perform the calculation by using a \n",
    "    procedure and passing parameters.\"\"\"\n",
    "\n",
    "def operations_procedure(menu_choice, num1, num2):\n",
    "    print(\"****Calling Procedure****\")\n",
    "    print(\"Number one: \", num1)\n",
    "    print(\"Number two: \", num2)\n",
    "    if menu_choice == 'a':\n",
    "        result = num1 + num2\n",
    "        print(\"\\nAddition of {} and {} is : {}\".format(num1, num2, result))\n",
    "    elif menu_choice == 'b':\n",
    "        result = num1 - num2\n",
    "        print(\"\\nSubtraction of {} and {} is : {}\".format(num1, num2, result))\n",
    "    elif menu_choice == 'c':\n",
    "        result = num1 * num2\n",
    "        print(\"\\nMultiplication of {} and {} is : {}\".format(num1, num2, result))\n",
    "    elif menu_choice == 'd':\n",
    "        result = num1 / num2\n",
    "        print(\"\\nDivision of {} and {} is : {}\".format(num1, num2, result))\n",
    "    elif menu_choice == 'e':\n",
    "        result = num1 ** num2\n",
    "        print(\"\\n{} to the power of {} is : {}\".format(num1, num2, result))\n",
    "    else:\n",
    "        print(\"\\nOops, No operation for this option!\\n\" +\n",
    "                \"Next time please enter one option from below:\\n\" +\n",
    "                \"'a' or 'b' or 'c' or 'd' or 'e'\\nThank you!!\")\n",
    "\n",
    "\n",
    "user_input_num1 = int(input(\"Enter number one:\"))\n",
    "user_input_num2 = int(input(\"Enter number two:\"))\n",
    "\n",
    "menu_choice = input(\"Choose one of the following operations from the menu below:\" + \"\\n\"\n",
    "                    + \"***** OPERATIONS MENU ******\" + \"\\n\"\n",
    "                    + \"\\t Enter 'a' if you want to add\" + \"\\n\"\n",
    "                    + \"\\t 'b' if you want to subtract\" + \"\\n\"\n",
    "                    + \"\\t 'c' if you want to multiply\" + \"\\n\"\n",
    "                    + \"\\t 'd' if you want to divide\" + \"\\n\"\n",
    "                    + \"\\t 'e' if you want to square(to the power of)\"\n",
    "                    )\n",
    "\n",
    "operations_procedure(menu_choice, user_input_num1, user_input_num2)\n"
   ]
  }
 ],
 "metadata": {
  "interpreter": {
   "hash": "aee8b7b246df8f9039afb4144a1f6fd8d2ca17a180786b69acc140d282b71a49"
  },
  "kernelspec": {
   "display_name": "Python 3.8.2 64-bit",
   "name": "python3"
  },
  "language_info": {
   "codemirror_mode": {
    "name": "ipython",
    "version": 3
   },
   "file_extension": ".py",
   "mimetype": "text/x-python",
   "name": "python",
   "nbconvert_exporter": "python",
   "pygments_lexer": "ipython3",
   "version": "3.8.2"
  },
  "orig_nbformat": 4
 },
 "nbformat": 4,
 "nbformat_minor": 2
}
