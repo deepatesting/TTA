{
 "cells": [
  {
   "cell_type": "markdown",
   "metadata": {},
   "source": [
    "Create a CSV file of 15 holiday destinations for a website.\n",
    "\n",
    "1. How many rows and columns are there in your file?\n",
    "2. Print row 3-8 (using iloc/loc).\n",
    "3. Find the mean number of all-inclusive hotels across all destinations.\n",
    "4. Find the lowest scoring destination.\n",
    "5. Find the highest scoring destination.\n",
    "6. Find all the destinations where there are more than 9 all-inclusive hotels.\n",
    "7. Filter the data by score above 8.\n",
    "8. Filter the data score below 2 ( I need to know if these destinations should be removed or there is a problem)"
   ]
  },
  {
   "cell_type": "code",
   "execution_count": 112,
   "metadata": {},
   "outputs": [
    {
     "name": "stdout",
     "output_type": "stream",
     "text": [
      "\n",
      "1. Number of rows are 14 and columns are 5\n",
      "\n",
      "2. Printing row 3-8 using iloc:\n",
      "    Destinations  Score out of 10  Hotel star rating avg  \\\n",
      "3      Austria                7                    4.0   \n",
      "4        Italy                8                    4.5   \n",
      "5      Iceland                8                    4.5   \n",
      "6     Scotland                7                    4.0   \n",
      "7        Wales                8                    4.0   \n",
      "8      Belgium                7                    4.0   \n",
      "\n",
      "   No. of all-inclu.hotels Most visited city  \n",
      "3                        7            Vienna  \n",
      "4                       10              Rome  \n",
      "5                        8         Reykjavik  \n",
      "6                        9         Edinburgh  \n",
      "7                        7           Swansea  \n",
      "8                       13          Brussels  \n",
      "\n",
      "The mean number of all-inclusive hotels across all destinations is:  10.285714285714286\n",
      "\n",
      "4. The lowest scoring destination is:\n",
      " 10    Croatia\n",
      "Name: Destinations, dtype: object\n",
      "\n",
      "5. The highest scoring destination is:\n",
      " 0         England\n",
      "11    Netherlands\n",
      "13    Switzerland\n",
      "Name: Destinations, dtype: object\n",
      "\n",
      "6. List of all destinations where there are more than 9 all-inclusive hotels::\n",
      " 0         England\n",
      "1          France\n",
      "4           Italy\n",
      "8         Belgium\n",
      "9           Spain\n",
      "11    Netherlands\n",
      "13    Switzerland\n",
      "Name: Destinations, dtype: object\n",
      "\n",
      "7. Filtering data based on score above 8:\n",
      "    Destinations  Score out of 10  Hotel star rating avg  \\\n",
      "0       England                9                    5.0   \n",
      "11  Netherlands                9                    5.0   \n",
      "13  Switzerland                9                    5.0   \n",
      "\n",
      "    No. of all-inclu.hotels Most visited city  \n",
      "0                        13            London  \n",
      "11                       14         Amsterdam  \n",
      "13                       15            Zurich  \n",
      "\n",
      "8. No destination found score less than 2\n"
     ]
    }
   ],
   "source": [
    "import pandas as pd\n",
    "\n",
    "holid_dest = pd.read_csv(\"holiday_dest.csv\")\n",
    "\n",
    "#print(holid_dest)\n",
    "\n",
    "#Task - 1\n",
    "print(\"\\n1. Number of rows are {} and columns are {}\\n\".format(holid_dest.shape[0], holid_dest.shape[1]))\n",
    "\n",
    "#Task -2\n",
    "print(\"2. Printing row 3-8 using iloc:\\n \", holid_dest.iloc[3:9])\n",
    "#print(\"\\n\", holid_dest.loc[[3,4,5,6,7,8]])\n",
    "#print(\"\\n\", holid_dest.loc[3:8])\n",
    "\n",
    "#Task - 3\n",
    "mean = holid_dest[\"No. of all-inclu.hotels\"].mean()\n",
    "print(\"\\nThe mean number of all-inclusive hotels across all destinations is: \", mean)\n",
    "\n",
    "#Task - 4\n",
    "min = holid_dest[\"Score out of 10\"].min()\n",
    "destination = holid_dest[min == holid_dest[\"Score out of 10\"]]\n",
    "print(\"\\n4. The lowest scoring destination is:\\n\", destination.Destinations)\n",
    "\n",
    "#Task - 5\n",
    "max = holid_dest[\"Score out of 10\"].max()\n",
    "destination = holid_dest[max == holid_dest[\"Score out of 10\"]]\n",
    "print(\"\\n5. The highest scoring destination is:\\n\", destination.Destinations)\n",
    "\n",
    "#Task - 6\n",
    "hotels = holid_dest[\"No. of all-inclu.hotels\"] > 9\n",
    "#print(hotels)\n",
    "print(\"\\n6. List of all destinations where there are more than 9 all-inclusive hotels::\\n\", holid_dest[hotels == True].Destinations)\n",
    "\n",
    "#Task - 7\n",
    "score = holid_dest[\"Score out of 10\"] > 8\n",
    "print(\"\\n7. Filtering data based on score above 8:\\n\", holid_dest[score == True])\n",
    "\n",
    "#Task - 8\n",
    "score = holid_dest[\"Score out of 10\"] < 2\n",
    "df = holid_dest[score == True]\n",
    "if df.empty:\n",
    "    print(\"\\n8. No destination found score less than 2\")\n",
    "else:\n",
    "    print(\"\\n8. Filtering data based on score below 2 to see if it has to be removed:\\n\", df.Destinations)\n",
    "\n",
    "\n",
    "\n"
   ]
  },
  {
   "cell_type": "markdown",
   "metadata": {},
   "source": [
    "Extension\n",
    "\n",
    "1. Is there a correlation between number of all-inclusive hotels and score?\n",
    "\n",
    "2. Create a data visualisation diagram to show destination and highest scores?"
   ]
  },
  {
   "cell_type": "code",
   "execution_count": 219,
   "metadata": {},
   "outputs": [
    {
     "name": "stdout",
     "output_type": "stream",
     "text": [
      "Correlation between number of all-inclusive hotels and score is: 0.5467350337392501\n",
      "   Destinations  Score out of 10\n",
      "0       England                9\n",
      "11  Netherlands                9\n",
      "13  Switzerland                9\n"
     ]
    },
    {
     "data": {
      "image/png": "[encoded data removed]",
      "text/plain": [
       "<Figure size 432x288 with 1 Axes>"
      ]
     },
     "metadata": {
      "needs_background": "light"
     },
     "output_type": "display_data"
    }
   ],
   "source": [
    "import pandas as pd\n",
    "import matplotlib.pyplot as plt\n",
    "\n",
    "#Task - 1\n",
    "holid_dest = pd.read_csv(\"holiday_dest.csv\")\n",
    "print(\"Correlation between number of all-inclusive hotels and score is:\", holid_dest['No. of all-inclu.hotels'].corr(holid_dest['Score out of 10']))\n",
    "\n",
    "#Task - 2   \n",
    "#python3 -m pip install matplotlib\n",
    "max = holid_dest[\"Score out of 10\"].max()\n",
    "destination = holid_dest[max == holid_dest[\"Score out of 10\"]]\n",
    "\n",
    "print(destination.iloc[:,[0,1]])\n",
    "\n",
    "destination.plot(kind = 'scatter', x = 'Destinations', y ='Score out of 10',  title = 'Highest score Datasets')\n",
    "\n",
    "plt.show()\n",
    "\n",
    "\n",
    "\n",
    "\n",
    "    "
   ]
  }
 ],
 "metadata": {
  "interpreter": {
   "hash": "aee8b7b246df8f9039afb4144a1f6fd8d2ca17a180786b69acc140d282b71a49"
  },
  "kernelspec": {
   "display_name": "Python 3.8.2 64-bit",
   "name": "python3"
  },
  "language_info": {
   "codemirror_mode": {
    "name": "ipython",
    "version": 3
   },
   "file_extension": ".py",
   "mimetype": "text/x-python",
   "name": "python",
   "nbconvert_exporter": "python",
   "pygments_lexer": "ipython3",
   "version": "3.8.2"
  },
  "orig_nbformat": 4
 },
 "nbformat": 4,
 "nbformat_minor": 2
}
