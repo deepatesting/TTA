{
 "cells": [
  {
   "cell_type": "markdown",
   "metadata": {},
   "source": [
    "Task - 1\n",
    "Write a program that allows you to enter 4 numbers\n",
    "and stores them in a file called “Numbers”\n",
    "• 3\n",
    "• 45\n",
    "• 83\n",
    "• 21\n",
    "Have a go at ‘w’ ‘r’ ‘a’"
   ]
  },
  {
   "cell_type": "code",
   "execution_count": 27,
   "metadata": {},
   "outputs": [
    {
     "name": "stdout",
     "output_type": "stream",
     "text": [
      "Writing 3, 45, 83 and 21 into a file\n",
      "Reading from a file\n",
      "3\n",
      "45\n",
      "83\n",
      "21\n",
      "\n",
      "Now appending '100' to a file\n",
      "Reading after append\n",
      "3\n",
      "45\n",
      "83\n",
      "21\n",
      "100\n"
     ]
    }
   ],
   "source": [
    "#Write into a file\n",
    "print(\"Writing 3, 45, 83 and 21 into a file\")\n",
    "file1 =  open(\"Numbers.txt\", 'w')\n",
    "for i in range(0,4):\n",
    "    n = input(\"Choose a number: \")\n",
    "    file1.write(n)\n",
    "    file1.write(\"\\n\")\n",
    "\n",
    "file1.close()\n",
    "\n",
    "#Read from a file\n",
    "print(\"Reading from a file\")\n",
    "with open(\"Numbers.txt\", 'r') as file2:\n",
    "    print(file2.read())\n",
    "file2.close()\n",
    "\n",
    "#Append to a file\n",
    "print(\"Now appending '100' to a file\")\n",
    "with open(\"Numbers.txt\", 'a') as file3:\n",
    "    file3.write(\"100\")\n",
    "file3.close()\n",
    "#Read after appending\n",
    "print(\"Reading after append\")\n",
    "with open(\"Numbers.txt\", 'r') as f:\n",
    "    print(f.read())\n"
   ]
  },
  {
   "cell_type": "markdown",
   "metadata": {},
   "source": [
    "Task - 2\n",
    "Write a program to ask a student for their percentage mark and\n",
    "convert this to a grade.\n",
    "\n",
    "Extension:\n",
    "• Ask the user for their target grade and print this with their\n",
    "mark\n",
    "• If their target grade > exam grade display a suitable\n",
    "message\n",
    "• If their target grade = exam grade display a suitable\n",
    "message\n",
    "• If their target grade < exam grade display a suitable\n",
    "message"
   ]
  },
  {
   "cell_type": "code",
   "execution_count": 70,
   "metadata": {},
   "outputs": [
    {
     "name": "stdout",
     "output_type": "stream",
     "text": [
      "Your grade is 8\n",
      "Your exam grade is below target.\n"
     ]
    }
   ],
   "source": [
    "#Task - 2\n",
    "\n",
    "def mark_grade(perct_mark):\n",
    "    if perct_mark == 100 or perct_mark == 99:\n",
    "        print(\"Your grade is 9\")\n",
    "        return '9'\n",
    "    elif perct_mark >= 94 and perct_mark <= 98:\n",
    "        print(\"Your grade is 8\")\n",
    "        return '8'  \n",
    "    elif perct_mark >= 89 and perct_mark <= 93:\n",
    "        print(\"Your grade is 7\")\n",
    "        return '7'\n",
    "    elif perct_mark >= 78 and perct_mark <= 88:\n",
    "        print(\"Your grade is 6\")\n",
    "        return '6'\n",
    "    elif perct_mark >= 67 and perct_mark <= 77:\n",
    "        print(\"Your grade is 5\")\n",
    "        return '5'\n",
    "    elif perct_mark >= 56 and perct_mark <= 66:\n",
    "        print(\"Your grade is 4\")\n",
    "        return '4'\n",
    "    elif perct_mark >= 41 and perct_mark <= 55:\n",
    "        print(\"Your grade is 3\")\n",
    "        return '3'\n",
    "    elif perct_mark >= 26 and perct_mark <= 40:\n",
    "        print(\"Your grade is 2\")\n",
    "        return '2'\n",
    "    elif perct_mark >= 11 and perct_mark <= 25:\n",
    "        print(\"Your grade is 1\")\n",
    "        return '1'\n",
    "    elif perct_mark > 0 and perct_mark < 10:\n",
    "        print(\"Your grade is U\")\n",
    "        return 'U'\n",
    "    else:\n",
    "        print(\"Percentage marks not in range.\")\n",
    "        return None\n",
    "    \n",
    "\n",
    "mark = int(input(\"Enter your percentage mark:\"))\n",
    "exam_grade = mark_grade(mark)\n",
    "\n",
    "#Extension:\n",
    "target_grade = input(\"Enter your target grade:\")\n",
    "\n",
    "if target_grade > exam_grade:\n",
    "    print(\"Your exam grade is below target.\")\n",
    "elif target_grade == exam_grade:\n",
    "    print(\"Well done! You achieved your target grade.\")\n",
    "elif target_grade < exam_grade:\n",
    "    print(\"Excellent! Your exam grade is above target.\")\n",
    "\n",
    "\n"
   ]
  },
  {
   "cell_type": "markdown",
   "metadata": {},
   "source": [
    "Task - 3\n",
    "\n",
    "Create a 1D array of numbers from 0 to 9"
   ]
  },
  {
   "cell_type": "code",
   "execution_count": 75,
   "metadata": {},
   "outputs": [
    {
     "name": "stdout",
     "output_type": "stream",
     "text": [
      "1D array of numbers:  [0 1 2 3 4 5 6 7 8 9]\n"
     ]
    }
   ],
   "source": [
    "#Task - 3\n",
    "\n",
    "#python3 -m pip install numpy\n",
    "\n",
    "import numpy as np\n",
    "\n",
    "array = np.array([0, 1, 2, 3, 4, 5, 6, 7, 8, 9])\n",
    "\n",
    "print(\"1D array of numbers: \", array)\n",
    "#print(np.__version__)"
   ]
  },
  {
   "cell_type": "markdown",
   "metadata": {},
   "source": [
    "Task - 4\n",
    "\n",
    "Create a 3×3 NumPy array of all Boolean value Trues"
   ]
  },
  {
   "cell_type": "code",
   "execution_count": 109,
   "metadata": {},
   "outputs": [
    {
     "name": "stdout",
     "output_type": "stream",
     "text": [
      "3×3 NumPy array of all Boolean value Trues is:\n",
      "[[ True  True  True]\n",
      " [ True  True  True]\n",
      " [ True  True  True]]\n"
     ]
    }
   ],
   "source": [
    "#Task - 4\n",
    "import numpy as np\n",
    "\n",
    "arr = np.ones(9, dtype='bool')\n",
    "new_arr = arr.reshape(3,3)\n",
    "\n",
    "#print(arr)\n",
    "print(\"3×3 NumPy array of all Boolean value Trues is:\")\n",
    "print(new_arr)\n"
   ]
  },
  {
   "cell_type": "markdown",
   "metadata": {},
   "source": [
    "Task - 5\n",
    "\n",
    "Extract all odd numbers from array of 1-10\n",
    "\n",
    "Task - 6\n",
    "\n",
    "Replace all odd numbers in an array of 1-10 with the value -1"
   ]
  },
  {
   "cell_type": "code",
   "execution_count": 122,
   "metadata": {},
   "outputs": [
    {
     "name": "stdout",
     "output_type": "stream",
     "text": [
      "[ 1  2  3  4  5  6  7  8  9 10]\n",
      "All odd numbers from array of 1-10 is [1 3 5 7 9]\n",
      "Replacing all odd numbers in an array of 1-10 with the value -1:  [-1 -1 -1 -1 -1]\n"
     ]
    }
   ],
   "source": [
    "#Task - 5 and 6\n",
    "import numpy as np\n",
    "\n",
    "array = np.arange(1,11)\n",
    "\n",
    "print(array)\n",
    "print(\"All odd numbers from array of 1-10 is\", array[0:10:2])\n",
    "\n",
    "arr_odd = array[0:10:2]\n",
    "print(\"Replacing all odd numbers in an array of 1-10 with the value -1: \",np.where(arr_odd > 0, -1, arr_odd))\n"
   ]
  },
  {
   "cell_type": "markdown",
   "metadata": {},
   "source": [
    "Task - 7\n",
    "\n",
    "Convert a 1D array to a 2D array with 2 rows"
   ]
  },
  {
   "cell_type": "code",
   "execution_count": 131,
   "metadata": {},
   "outputs": [
    {
     "name": "stdout",
     "output_type": "stream",
     "text": [
      "1D Array of numbers: [ 1  2  3  4  5  6  7  8  9 10]\n",
      "Convert a 1D array to a 2D array with 2 rows:\n",
      " [[ 1  2  3  4  5]\n",
      " [ 6  7  8  9 10]]\n"
     ]
    }
   ],
   "source": [
    "#Task - 7\n",
    "import numpy as np\n",
    "\n",
    "array = np.arange(1,11)\n",
    "\n",
    "print(\"1D Array of numbers:\", array)\n",
    "\n",
    "print(\"Convert a 1D array to a 2D array with 2 rows:\\n\", array.reshape(2,5))"
   ]
  },
  {
   "cell_type": "markdown",
   "metadata": {},
   "source": [
    "Task - 8\n",
    "\n",
    "Create two arrays a and b, stack these two arrays vertically use the np.dot and\n",
    "np.sum to calculate totals"
   ]
  },
  {
   "cell_type": "code",
   "execution_count": 207,
   "metadata": {},
   "outputs": [
    {
     "name": "stdout",
     "output_type": "stream",
     "text": [
      "Array 1:\n",
      " [[1 2]\n",
      " [3 4]]\n",
      "Array 2:\n",
      " [[4 5]\n",
      " [6 7]]\n",
      "Stacking two arrays a and b vertically:\n",
      " [[1 2]\n",
      " [3 4]\n",
      " [4 5]\n",
      " [6 7]]\n",
      "Product of arrays a and b:\n",
      " [[16 19]\n",
      " [36 43]]\n",
      "Totals:  114\n"
     ]
    }
   ],
   "source": [
    "#Task - 8\n",
    "\n",
    "import numpy as np\n",
    "\n",
    "\"\"\"\n",
    "a = np.arange(1,7).reshape(2,3)\n",
    "b = np.arange(7,13).reshape(3,2)\n",
    "print(\"Array 1:\\n\", a)\n",
    "print(\"Array 2:\\n\", b)\n",
    "\n",
    "c = np.dot(a, b)\n",
    "e = np.sum(c, axis = 1, keepdims=True)\n",
    "\n",
    "print(\"Product of array 1 and 2:\\n\", c)\n",
    "print(\"Sum with axis = 1:\\n\", e)\n",
    "\"\"\"\n",
    "\n",
    "a = np.array([[1, 2], [3, 4]])\n",
    "b = np.array([[4, 5], [6, 7]])\n",
    "print(\"Array 1:\\n\", a)\n",
    "print(\"Array 2:\\n\", b)\n",
    "\n",
    "\n",
    "#Vertical stack\n",
    "#s1 = np.vstack(a)\n",
    "#s2 = np.vstack(b)\n",
    "\n",
    "c = np.vstack((a,b))\n",
    "print(\"Stacking two arrays a and b vertically:\\n\", c)\n",
    "\n",
    "product= np.dot(a,b)\n",
    "total = np.sum(product)\n",
    "print(\"Product of arrays a and b:\\n\", product)\n",
    "print(\"Totals: \", total)\n"
   ]
  },
  {
   "cell_type": "markdown",
   "metadata": {},
   "source": [
    "Extension:\n",
    "\n",
    "1. Create the following pattern without hardcoding. Use only NumPy functions.\n",
    "2. In two arrays a (1,2,3,4,5) and b (4,5,6,7,8,9) – remove all repeating items \n",
    "    present in array b\n",
    "3. Get all items between 3 and 7 from a and b and sum them together"
   ]
  },
  {
   "cell_type": "code",
   "execution_count": 215,
   "metadata": {},
   "outputs": [
    {
     "name": "stdout",
     "output_type": "stream",
     "text": [
      "[1 1 1 2 2 2 3 3 3]\n",
      "[1 2 3 1 2 3 1 2 3]\n",
      "Pattern Array: [1 1 1 2 2 2 3 3 3 1 2 3 1 2 3 1 2 3]\n"
     ]
    }
   ],
   "source": [
    "# 1.Pattern \n",
    "\n",
    "import numpy as np\n",
    "\n",
    "a = np.array([1,2,3])\n",
    "x = np.repeat(a, 3)\n",
    "y = np.tile(a, 3)\n",
    "\n",
    "print(x)\n",
    "print(y)\n",
    "array = np.concatenate((x,y))\n",
    "print(\"Pattern Array:\", array)"
   ]
  },
  {
   "cell_type": "code",
   "execution_count": 228,
   "metadata": {},
   "outputs": [
    {
     "name": "stdout",
     "output_type": "stream",
     "text": [
      "Removed repeat present in array b:: [5 6 7 8 9]\n"
     ]
    }
   ],
   "source": [
    "# 2. Remove repeat present in array b\n",
    "import numpy as np\n",
    "\n",
    "a = np.array([1,2,3,4])\n",
    "b = np.array([4,5,6,7,8,9])\n",
    "copy = b\n",
    "c = np.setdiff1d(b, a)\n",
    "b = c\n",
    "print(\"Removed repeat present in array b::\", c)"
   ]
  },
  {
   "cell_type": "code",
   "execution_count": 240,
   "metadata": {},
   "outputs": [
    {
     "name": "stdout",
     "output_type": "stream",
     "text": [
      "[1 2 3 4 4 5 6 7 8 9]\n",
      "All items between 3 and 7 from a and b are:  [3 4 4 5 6 7]\n",
      "Summed together:  29\n"
     ]
    }
   ],
   "source": [
    "# 3. Get all items between 3 and 7 and then sum\n",
    "\n",
    "import numpy as np\n",
    "\n",
    "a = np.array([1,2,3,4])\n",
    "b = np.array([4,5,6,7,8,9])\n",
    "c = np.concatenate((a,b))\n",
    "print(c)\n",
    "\n",
    "items = c[2:8]\n",
    "print(\"All items between 3 and 7 from a and b are: \", items)\n",
    "print(\"Summed together: \",np.sum(items))"
   ]
  }
 ],
 "metadata": {
  "interpreter": {
   "hash": "aee8b7b246df8f9039afb4144a1f6fd8d2ca17a180786b69acc140d282b71a49"
  },
  "kernelspec": {
   "display_name": "Python 3.8.2 64-bit",
   "name": "python3"
  },
  "language_info": {
   "codemirror_mode": {
    "name": "ipython",
    "version": 3
   },
   "file_extension": ".py",
   "mimetype": "text/x-python",
   "name": "python",
   "nbconvert_exporter": "python",
   "pygments_lexer": "ipython3",
   "version": "3.8.2"
  },
  "orig_nbformat": 4
 },
 "nbformat": 4,
 "nbformat_minor": 2
}
